{
 "cells": [
  {
   "cell_type": "code",
   "execution_count": 52,
   "metadata": {
    "collapsed": false
   },
   "outputs": [],
   "source": [
    "import json\n",
    "import requests\n",
    "from lxml import html\n",
    "\n",
    "\n",
    "class XPathObject(object):\n",
    "    input_properties = {}\n",
    "    \"\"\"Dict of keys (property names) and XPaths (to read vals from)\"\"\"\n",
    "\n",
    "    @classmethod\n",
    "    def FromHTML(cls, html_contents):\n",
    "        inst = cls()\n",
    "        print(\"Reading through {b} bytes for {c} properties...\".format(\n",
    "            b=len(html_contents),\n",
    "            c=len(cls.input_properties)))\n",
    "\n",
    "        tree = html.fromstring(html_contents)\n",
    "\n",
    "        for attr_name, xpath in cls.input_properties.items():\n",
    "            print(\"Searching for '{n}': {x}\".format(\n",
    "                n=attr_name,\n",
    "                x=xpath))\n",
    "            elements = tree.xpath(xpath)\n",
    "\n",
    "            if not len(elements):\n",
    "                print(\"Failed to find '{n}': {x}\".format(\n",
    "                    n=attr_name,\n",
    "                    x=xpath))\n",
    "                continue\n",
    "\n",
    "            setattr(\n",
    "                inst,\n",
    "                attr_name,\n",
    "                elements[0].text)\n",
    "\n",
    "        return inst\n",
    "\n",
    "    def __repr__(self):\n",
    "        return json.dumps(\n",
    "            self.__dict__,\n",
    "            indent=4,\n",
    "            separators=(',', ': '))\n",
    "\n",
    "\n",
    "class RefusePickup(XPathObject):\n",
    "    input_properties = {\n",
    "        'success_msg': '//*[@id=\"nConf\"]/h1',\n",
    "        'route_garbage': '//*[@id=\"nConf\"]/strong[1]',\n",
    "        'next_pickup_garbage': '//*[@id=\"nConf\"]/strong[2]',\n",
    "        'route_recyle': '//*[@id=\"nConf\"]/strong[3]',\n",
    "        'next_pickup_recycle_after': '//*[@id=\"nConf\"]/strong[4]',\n",
    "        'next_pickup_recycle_before': '//*[@id=\"nConf\"]/strong[5]',\n",
    "    }\n",
    "\n",
    "\n",
    "class RefuseQueryAddress(object):\n",
    "    STREET_TYPES = [\n",
    "        'AV', # Avenue\n",
    "        'BL', #\n",
    "        'CR', # Circle\n",
    "        'CT', # Court\n",
    "        'DR', # Drive\n",
    "        'LA', # Lane\n",
    "        'PK', # Parkway\n",
    "        'PL', # Place\n",
    "        'RD', # Road\n",
    "        'SQ', # Square\n",
    "        'ST', # Street\n",
    "        'TR', # Terrace\n",
    "        'WY', # Way\n",
    "    ]\n",
    "    def __init__(self, house_number, direction, street_name, street_type):\n",
    "        self.house_number = house_number\n",
    "        self.direction = direction\n",
    "        self._street_name = street_name\n",
    "        self._street_type = street_type\n",
    "\n",
    "        assert self.street_type in self.STREET_TYPES, \\\n",
    "            \"Invalid street type: {st}\".format(\n",
    "                st=self.street_type)\n",
    "\n",
    "    @property\n",
    "    def street_name(self):\n",
    "        return self._street_name.upper()\n",
    "    \n",
    "    @property\n",
    "    def street_type(self):\n",
    "        return self._street_type.upper()\n",
    "\n",
    "\n",
    "class RefuseQuery(object):\n",
    "    form_url = 'http://mpw.milwaukee.gov/services/garbage_day'\n",
    "    parse_xpath = RefusePickup\n",
    "    \n",
    "    @classmethod\n",
    "    def Execute(cls, refuse_address):\n",
    "        response = requests.post(\n",
    "            cls.form_url,\n",
    "            data={\n",
    "                'laddr': refuse_address.house_number,\n",
    "                'sdir': refuse_address.direction,\n",
    "                'sname': refuse_address.street_name,\n",
    "                'stype': refuse_address.street_type,\n",
    "                'Submit': 'Submit',\n",
    "            })\n",
    "        response_method = getattr(cls.parse_xpath, 'FromHTML')\n",
    "        return response_method(response.text)\n",
    "    "
   ]
  },
  {
   "cell_type": "markdown",
   "metadata": {},
   "source": [
    "### Define An Address\n",
    "The following address is of a Walgreens for an example."
   ]
  },
  {
   "cell_type": "code",
   "execution_count": 53,
   "metadata": {
    "collapsed": false
   },
   "outputs": [],
   "source": [
    "address = RefuseQueryAddress(\n",
    "    house_number=2727,\n",
    "    direction='S',\n",
    "    street_name='27th',\n",
    "    street_type='st')"
   ]
  },
  {
   "cell_type": "markdown",
   "metadata": {},
   "source": [
    "### Execute The Query\n",
    "Call the `RefuseQuery` class to fetch, parse, and return the status of\n",
    "future refuse pickups."
   ]
  },
  {
   "cell_type": "code",
   "execution_count": 54,
   "metadata": {
    "collapsed": false
   },
   "outputs": [
    {
     "name": "stdout",
     "output_type": "stream",
     "text": [
      "Reading through 13790 bytes for 6 properties...\n",
      "Searching for 'success_msg': //*[@id=\"nConf\"]/h1\n",
      "Searching for 'next_pickup_recycle_before': //*[@id=\"nConf\"]/strong[5]\n",
      "Searching for 'next_pickup_recycle_after': //*[@id=\"nConf\"]/strong[4]\n",
      "Searching for 'route_recyle': //*[@id=\"nConf\"]/strong[3]\n",
      "Searching for 'next_pickup_garbage': //*[@id=\"nConf\"]/strong[2]\n",
      "Searching for 'route_garbage': //*[@id=\"nConf\"]/strong[1]\n"
     ]
    }
   ],
   "source": [
    "pickup = RefuseQuery.Execute(address)"
   ]
  },
  {
   "cell_type": "markdown",
   "metadata": {},
   "source": [
    "### Assess Results\n",
    "Look at the response object to determine what route the address is\n",
    "on, when the next garbage pickup is, and when the next recycle pickup\n",
    "will *likely* be."
   ]
  },
  {
   "cell_type": "code",
   "execution_count": 55,
   "metadata": {
    "collapsed": false
   },
   "outputs": [
    {
     "name": "stdout",
     "output_type": "stream",
     "text": [
      "{\n",
      "    \"success_msg\": \"2727 S 27TH ST - Address located!\",\n",
      "    \"route_garbage\": \"SP1-3A\",\n",
      "    \"next_pickup_recycle_after\": \"FRIDAY MARCH 11, 2016\",\n",
      "    \"route_recyle\": \"SR2-2-16\",\n",
      "    \"next_pickup_recycle_before\": \"SATURDAY MARCH 12, 2016\",\n",
      "    \"next_pickup_garbage\": \"MONDAY MARCH 14, 2016\"\n",
      "}\n"
     ]
    }
   ],
   "source": [
    "print(repr(pickup))"
   ]
  },
  {
   "cell_type": "code",
   "execution_count": null,
   "metadata": {
    "collapsed": true
   },
   "outputs": [],
   "source": []
  }
 ],
 "metadata": {
  "kernelspec": {
   "display_name": "Python 3",
   "language": "python",
   "name": "python3"
  },
  "language_info": {
   "codemirror_mode": {
    "name": "ipython",
    "version": 3
   },
   "file_extension": ".py",
   "mimetype": "text/x-python",
   "name": "python",
   "nbconvert_exporter": "python",
   "pygments_lexer": "ipython3",
   "version": "3.3.5"
  }
 },
 "nbformat": 4,
 "nbformat_minor": 0
}
