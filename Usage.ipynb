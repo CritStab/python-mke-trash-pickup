{
 "cells": [
  {
   "cell_type": "markdown",
   "metadata": {},
   "source": [
    "## Overview\n",
    "This notebook will show you how to employe the `mkerefuse` module\n",
    "to discover the upcoming garbage & recycle pickups."
   ]
  },
  {
   "cell_type": "code",
   "execution_count": 1,
   "metadata": {
    "collapsed": false
   },
   "outputs": [],
   "source": [
    "from mkerefuse.refuse import RefuseQuery\n",
    "from mkerefuse.refuse import RefuseQueryAddress"
   ]
  },
  {
   "cell_type": "markdown",
   "metadata": {},
   "source": [
    "### Define The Address"
   ]
  },
  {
   "cell_type": "code",
   "execution_count": 2,
   "metadata": {
    "collapsed": false
   },
   "outputs": [],
   "source": [
    "address = RefuseQueryAddress(\n",
    "    house_number=2727,\n",
    "    direction='S',\n",
    "    street_name='27th',\n",
    "    street_type='st')"
   ]
  },
  {
   "cell_type": "markdown",
   "metadata": {},
   "source": [
    "### Execute The Query"
   ]
  },
  {
   "cell_type": "code",
   "execution_count": 3,
   "metadata": {
    "collapsed": false
   },
   "outputs": [],
   "source": [
    "pickup = RefuseQuery.Execute(address)"
   ]
  },
  {
   "cell_type": "markdown",
   "metadata": {},
   "source": [
    "### Check Results"
   ]
  },
  {
   "cell_type": "code",
   "execution_count": 4,
   "metadata": {
    "collapsed": false
   },
   "outputs": [
    {
     "name": "stdout",
     "output_type": "stream",
     "text": [
      "{\n",
      "    \"next_pickup_recycle_before\": \"SATURDAY MARCH 12, 2016\",\n",
      "    \"next_pickup_garbage\": \"MONDAY MARCH 14, 2016\",\n",
      "    \"route_recyle\": \"SR2-2-16\",\n",
      "    \"success_msg\": \"2727 S 27TH ST - Address located!\",\n",
      "    \"next_pickup_recycle_after\": \"FRIDAY MARCH 11, 2016\",\n",
      "    \"route_garbage\": \"SP1-3A\"\n",
      "}\n"
     ]
    }
   ],
   "source": [
    "print(repr(pickup))"
   ]
  }
 ],
 "metadata": {
  "kernelspec": {
   "display_name": "Python 3",
   "language": "python",
   "name": "python3"
  },
  "language_info": {
   "codemirror_mode": {
    "name": "ipython",
    "version": 3
   },
   "file_extension": ".py",
   "mimetype": "text/x-python",
   "name": "python",
   "nbconvert_exporter": "python",
   "pygments_lexer": "ipython3",
   "version": "3.3.5"
  }
 },
 "nbformat": 4,
 "nbformat_minor": 0
}
